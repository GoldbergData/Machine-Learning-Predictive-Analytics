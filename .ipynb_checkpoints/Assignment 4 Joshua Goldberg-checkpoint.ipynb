{
 "cells": [
  {
   "cell_type": "markdown",
   "metadata": {},
   "source": [
    "# Random Forest Binary Classification: \n",
    "\n",
    "For assignment 4 we will be working with a credit default data set. The data includes various features around financial history and demographic information. The target variable is \"default payment next week\", which is just a binary flag of whether a customer defaults on a payment in the next week.\n",
    "\n",
    "You will need to use the __Random Forest Classifier__ from sklearn in order to build a classifier to predict if a customer is likely to default. You will also need to use the GridSearch CV for this assignment."
   ]
  },
  {
   "cell_type": "markdown",
   "metadata": {},
   "source": [
    "# Data Processing:\n",
    "\n",
    "a) Import the data: The target / y variable is \"default payment next month\" column. Keep all predictors except for the row column (this is a blank in the .xlsx file). \n",
    "\n",
    "b) Remove any rows that have missing data.\n",
    "\n",
    "c) Split data into train / test set using an 70/30 split."
   ]
  },
  {
   "cell_type": "code",
   "execution_count": 3,
   "metadata": {},
   "outputs": [],
   "source": [
    "import numpy as np\n",
    "import pandas as pd\n",
    "import matplotlib.pyplot as plt\n",
    "import seaborn as sns\n",
    "from sklearn.model_selection import train_test_split, GridSearchCV\n",
    "from sklearn.ensemble import RandomForestClassifier\n",
    "import sklearn.metrics as metrics\n",
    "import sklearn.preprocessing as preprocessing\n",
    "# We'll use this library to make the display pretty\n",
    "from tabulate import tabulate\n",
    "import warnings\n",
    "warnings.filterwarnings(\"ignore\")"
   ]
  },
  {
   "cell_type": "code",
   "execution_count": 4,
   "metadata": {},
   "outputs": [],
   "source": [
    "credit_df = pd.read_excel(\"default of credit card clients.xls\")\n",
    "\n",
    "credit_df.replace([\"NaN\", \"NaT\"], np.nan, inplace=True)\n",
    "credit_df = credit_df.dropna(how=\"any\", axis=0)\n",
    "\n",
    "X_train, X_test, y_train, y_test = train_test_split(\n",
    "    credit_df.drop([\"default payment next month\"], axis=1),\n",
    "    credit_df[\"default payment next month\"], test_size=.30,\n",
    "    random_state=0)"
   ]
  },
  {
   "cell_type": "markdown",
   "metadata": {},
   "source": [
    "# Random Forest Classifier - Base Model:\n",
    "\n",
    "Start by creating a simple Random Forest only using default parameters.\n",
    "\n",
    "a) Use the RandomForestClassifier in sklearn. Fit your model on the training data.\n",
    "\n",
    "b) Use the fitted model to predict on test data. Use the .predict_proba() and the .predict() methods to get predicted probabilities as well as predicted classes.\n",
    "\n",
    "c) Calculate the confusion matrix and classification report (both are in sklearn.metrics). These are the same tools from HW #3.\n",
    "\n",
    "d) Calculate the roc_auc_score for this model. There are many ways to do this, but an example is to use the probabilities from step B and utilize the roc_auc_score from sklearn.\n",
    "\n",
    "Documentation: http://scikit-learn.org/stable/modules/generated/sklearn.metrics.roc_auc_score.html (Links to an external site.)Links to an external site."
   ]
  },
  {
   "cell_type": "code",
   "execution_count": 5,
   "metadata": {},
   "outputs": [
    {
     "data": {
      "image/png": "[encoded data removed]",
      "text/plain": [
       "<Figure size 432x288 with 2 Axes>"
      ]
     },
     "metadata": {
      "needs_background": "light"
     },
     "output_type": "display_data"
    },
    {
     "name": "stdout",
     "output_type": "stream",
     "text": [
      "             precision    recall  f1-score   support\n",
      "\n",
      "          0       0.83      0.95      0.89      7060\n",
      "          1       0.61      0.31      0.41      1940\n",
      "\n",
      "avg / total       0.79      0.81      0.78      9000\n",
      "\n",
      "ROC: 0.7249619608072193\n"
     ]
    }
   ],
   "source": [
    "rf_mod_base = RandomForestClassifier().fit(X_train, y_train)\n",
    "y_test_prob_base = rf_mod_base.predict_proba(X_test)\n",
    "y_test_pred = rf_mod_base.predict(X_test)\n",
    "\n",
    "conf_mat = metrics.confusion_matrix(y_true=y_test,\n",
    "                                    y_pred=y_test_pred)\n",
    "plt.title('Confusion Matrix')\n",
    "sns.heatmap(conf_mat, annot=True, fmt=\"d\")\n",
    "plt.ylabel(\"Actual\")\n",
    "plt.xlabel(\"Predicted\")\n",
    "plt.show()\n",
    "\n",
    "print(metrics.classification_report(y_test, y_test_pred))\n",
    "\n",
    "# limit to probability for class = 1\n",
    "rf_mod_base_probs = rf_mod_base.predict_proba(X_test)[:, 1]\n",
    "\n",
    "# calculate roc_auc_score\n",
    "print(f\"ROC: {metrics.roc_auc_score(y_test, rf_mod_base_probs)}\")"
   ]
  },
  {
   "cell_type": "markdown",
   "metadata": {},
   "source": [
    "# Random Forest Classifier - Grid Search:\n",
    "\n",
    "Start by creating a simple Random Forest only using default parameters.\n",
    "\n",
    "a) Use the RandomForestClassifier along with the GridSearchCV tool. Run the GridSearchCV using the following: \n",
    "\n",
    "`n_estimators: 500, 750, 1000`\n",
    "`max_features: 2, 4, 6` \n",
    "\n",
    "__Note__: _Feel free to try out more parameters, the above is the bare minimum for this assignment_.\n",
    "\n",
    "Use 5 cross-fold and for scoring use \"roc_auc\" (this is the score that will be referenced when identifying the best parameters). \n",
    "\n",
    "Example of GridSearchCV: \n",
    "\n",
    "create a dictionary of parameters \n",
    "`param_grid = {'max_depth':[2, 4, 6, 8],\n",
    "'min_samples_split':[3,4,5,6,7,8],\n",
    "'random_state':[0]}`\n",
    "\n",
    "create Random Forest model \n",
    "`rf_obj=RandomForestClassifier()`\n",
    "\n",
    "Create gridsearch object with various combinations of parameters\n",
    "`rf_Grid = GridSearchCV(rf_obj, param_grid, cv = 5, scoring = 'roc_auc',refit = True, n_jobs=-1, verbose = 5)`\n",
    "\n",
    "Next, just fit this object\n",
    "Documentation: http://scikit-learn.org/stable/modules/generated/sklearn.model_selection.GridSearchCV.html\n",
    "\n",
    "b) Identify the best performing model:\n",
    "\n",
    "* `.best_params_()` : This method outputs to best performing parameters\n",
    "\n",
    "* `.best_estimator_()` : This method outputs the best performing model, and can be used for predicting on the X_test \n",
    "\n",
    "c) Use the best estimator model to predict on test data. Use the `.predict_proba()` and the `.predict()` methods to get predicted probabilities as well as predicted classes.\n",
    "\n",
    "d) Calculate the confusion matrix and classification report (both are in sklearn.metrics). \n",
    "\n",
    "e) Calculate the `roc_auc_score` for this model. "
   ]
  },
  {
   "cell_type": "code",
   "execution_count": 6,
   "metadata": {},
   "outputs": [],
   "source": [
    "# create a dictionary of parameters\n",
    "param_grid = {\"n_estimators\": [500, 750, 1000], \"max_features\": [2, 4, 6],\n",
    "              \"random_state\": [0]}\n",
    "\n",
    "# create random forest model\n",
    "rf_obj = RandomForestClassifier()\n",
    "\n",
    "# Create gridsearch object with various combinations of parameters\n",
    "rf_grid = GridSearchCV(rf_obj, param_grid, cv=5, scoring=\"roc_auc\",\n",
    "                       refit=True, n_jobs=-1)"
   ]
  },
  {
   "cell_type": "code",
   "execution_count": 7,
   "metadata": {},
   "outputs": [],
   "source": [
    "rf_grid_model_fit = rf_grid.fit(X_train, y_train)\n",
    "rf_best_model = rf_grid_model_fit.best_estimator_"
   ]
  },
  {
   "cell_type": "code",
   "execution_count": 8,
   "metadata": {},
   "outputs": [
    {
     "data": {
      "image/png": "[encoded data removed]",
      "text/plain": [
       "<Figure size 432x288 with 2 Axes>"
      ]
     },
     "metadata": {
      "needs_background": "light"
     },
     "output_type": "display_data"
    },
    {
     "name": "stdout",
     "output_type": "stream",
     "text": [
      "             precision    recall  f1-score   support\n",
      "\n",
      "          0       0.84      0.95      0.89      7060\n",
      "          1       0.65      0.35      0.45      1940\n",
      "\n",
      "avg / total       0.80      0.82      0.80      9000\n",
      "\n",
      "ROC: 0.7742645877748898\n"
     ]
    }
   ],
   "source": [
    "y_test_pred_grid = rf_best_model.predict(X_test)\n",
    "y_test_probs_grid = rf_best_model.predict_proba(X_test)[:, 1]\n",
    "\n",
    "conf_mat = metrics.confusion_matrix(y_true=y_test,\n",
    "                                    y_pred=y_test_pred_grid)\n",
    "plt.title(\"Confusion Matrix\")\n",
    "sns.heatmap(conf_mat, annot=True, fmt=\"d\")\n",
    "plt.ylabel(\"Actual\")\n",
    "plt.xlabel(\"Predicted\")\n",
    "plt.show()\n",
    "\n",
    "print(metrics.classification_report(y_test, y_test_pred_grid))\n",
    "\n",
    "# calculate roc_auc_score\n",
    "print(f\"ROC: {metrics.roc_auc_score(y_test, y_test_probs_grid)}\")"
   ]
  },
  {
   "cell_type": "markdown",
   "metadata": {},
   "source": [
    "## What are the best parameters from the Grid Search? Does the Model from \\#3 outperform Model \\#2? "
   ]
  },
  {
   "cell_type": "code",
   "execution_count": 9,
   "metadata": {},
   "outputs": [
    {
     "name": "stdout",
     "output_type": "stream",
     "text": [
      "Best parameters: {'max_features': 2, 'n_estimators': 1000, 'random_state': 0}\n",
      "Model #2 ROC of 0.7249619608072193 \n",
      "Model #3 ROC of 0.7742645877748898\n"
     ]
    }
   ],
   "source": [
    "print(f\"Best parameters: {rf_grid_model_fit.best_params_}\")\n",
    "print(f\"Model #2 ROC of {metrics.roc_auc_score(y_test, rf_mod_base_probs)} \\nModel #3 ROC of {metrics.roc_auc_score(y_test, y_test_probs_grid)}\")"
   ]
  },
  {
   "cell_type": "markdown",
   "metadata": {},
   "source": [
    "Model 3 is superior in ROC. Precision, recall, and f1-score are slightly better. "
   ]
  },
  {
   "cell_type": "markdown",
   "metadata": {},
   "source": [
    "## Create a feature importance plot for your best performing model. What are the top 5 features for this model? "
   ]
  },
  {
   "cell_type": "code",
   "execution_count": 22,
   "metadata": {},
   "outputs": [
    {
     "name": "stdout",
     "output_type": "stream",
     "text": [
      "name           score\n",
      "PAY_0      0.0812772\n",
      "AGE        0.0649611\n",
      "LIMIT_BAL  0.0608625\n",
      "BILL_AMT1  0.0585223\n",
      "BILL_AMT2  0.0544506\n"
     ]
    },
    {
     "data": {
      "image/png": "[encoded data removed]",
      "text/plain": [
       "<Figure size 432x288 with 1 Axes>"
      ]
     },
     "metadata": {
      "needs_background": "light"
     },
     "output_type": "display_data"
    }
   ],
   "source": [
    "importances = rf_best_model.feature_importances_\n",
    "std = np.std([tree.feature_importances_ for tree in rf_best_model.estimators_],\n",
    "             axis=0)\n",
    "indices = np.argsort(importances)[::-1]\n",
    "\n",
    "# Print the feature ranking    \n",
    "headers = [\"name\", \"score\"]\n",
    "values = sorted(zip(X_test.columns, importances), key=lambda x: x[1] * -1)\n",
    "print(tabulate(values[0:5], headers, tablefmt=\"plain\"))\n",
    "\n",
    "# Plot the feature importances of the forest\n",
    "plt.figure()\n",
    "plt.title(\"Feature importances\")\n",
    "plt.bar(range(X_test.shape[1]), importances[indices],\n",
    "       color=\"r\", yerr=std[indices], align=\"center\")\n",
    "plt.xticks(range(X_test.shape[1]), indices)\n",
    "plt.xlim([-1, X_test.shape[1]])\n",
    "plt.show()"
   ]
  }
 ],
 "metadata": {
  "kernelspec": {
   "display_name": "Python 3",
   "language": "python",
   "name": "python3"
  },
  "language_info": {
   "codemirror_mode": {
    "name": "ipython",
    "version": 3
   },
   "file_extension": ".py",
   "mimetype": "text/x-python",
   "name": "python",
   "nbconvert_exporter": "python",
   "pygments_lexer": "ipython3",
   "version": "3.7.0"
  }
 },
 "nbformat": 4,
 "nbformat_minor": 2
}
