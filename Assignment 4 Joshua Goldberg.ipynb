{
 "cells": [
  {
   "cell_type": "markdown",
   "metadata": {},
   "source": [
    "# Random Forest Binary Classification: \n",
    "\n",
    "For assignment 4 we will be working with a credit default data set. The data includes various features around financial history and demographic information. The target variable is \"default payment next week\", which is just a binary flag of whether a customer defaults on a payment in the next week.\n",
    "\n",
    "You will need to use the __Random Forest Classifier__ from sklearn in order to build a classifier to predict if a customer is likely to default. You will also need to use the GridSearch CV for this assignment."
   ]
  },
  {
   "cell_type": "markdown",
   "metadata": {},
   "source": [
    "# Data Processing:\n",
    "\n",
    "a) Import the data: The target / y variable is \"default payment next month\" column. Keep all predictors except for the row column (this is a blank in the .xlsx file). \n",
    "\n",
    "b) Remove any rows that have missing data.\n",
    "\n",
    "c) Split data into train / test set using an 70/30 split."
   ]
  },
  {
   "cell_type": "code",
   "execution_count": 3,
   "metadata": {},
   "outputs": [],
   "source": [
    "import numpy as np\n",
    "import pandas as pd\n",
    "import matplotlib.pyplot as plt\n",
    "import seaborn as sns\n",
    "from sklearn.model_selection import train_test_split\n",
    "from sklearn.linear_model import LogisticRegression\n",
    "from sklearn.decomposition import PCA\n",
    "import sklearn.metrics as metrics\n",
    "import sklearn.preprocessing as preprocessing\n",
    "import warnings\n",
    "# warnings.filterwarnings(\"ignore\")"
   ]
  },
  {
   "cell_type": "code",
   "execution_count": 4,
   "metadata": {},
   "outputs": [],
   "source": [
    "credit_df = pd.read_excel(\"default of credit card clients.xls\")\n",
    "\n",
    "credit_df.replace([\"NaN\", \"NaT\"], np.nan, inplace=True)\n",
    "credit_df = credit_df.dropna(how=\"any\", axis=0)\n",
    "\n",
    "X_train, X_test, y_train, y_test = train_test_split(\n",
    "    credit_df.drop([\"default payment next month\"], axis=1),\n",
    "    credit_df[\"default payment next month\"], test_size=.30,\n",
    "    random_state=0)"
   ]
  },
  {
   "cell_type": "markdown",
   "metadata": {},
   "source": [
    "# Random Forest Classifier - Base Model:\n",
    "\n",
    "Start by creating a simple Random Forest only using default parameters.\n",
    "\n",
    "a) Use the RandomForestClassifier in sklearn. Fit your model on the training data.\n",
    "\n",
    "b) Use the fitted model to predict on test data. Use the .predict_proba() and the .predict() methods to get predicted probabilities as well as predicted classes.\n",
    "\n",
    "c) Calculate the confusion matrix and classification report (both are in sklearn.metrics). These are the same tools from HW #3.\n",
    "\n",
    "d) Calculate the roc_auc_score for this model. There are many ways to do this, but an example is to use the probabilities from step B and utilize the roc_auc_score from sklearn.\n",
    "\n",
    "Documentation: http://scikit-learn.org/stable/modules/generated/sklearn.metrics.roc_auc_score.html (Links to an external site.)Links to an external site."
   ]
  },
  {
   "cell_type": "code",
   "execution_count": null,
   "metadata": {},
   "outputs": [],
   "source": []
  }
 ],
 "metadata": {
  "kernelspec": {
   "display_name": "Python 3",
   "language": "python",
   "name": "python3"
  },
  "language_info": {
   "codemirror_mode": {
    "name": "ipython",
    "version": 3
   },
   "file_extension": ".py",
   "mimetype": "text/x-python",
   "name": "python",
   "nbconvert_exporter": "python",
   "pygments_lexer": "ipython3",
   "version": "3.7.0"
  }
 },
 "nbformat": 4,
 "nbformat_minor": 2
}
